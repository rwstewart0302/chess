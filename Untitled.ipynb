{
 "cells": [
  {
   "cell_type": "code",
   "execution_count": 1,
   "metadata": {},
   "outputs": [],
   "source": [
    "import pandas as pd"
   ]
  },
  {
   "cell_type": "code",
   "execution_count": 18,
   "metadata": {},
   "outputs": [],
   "source": [
    "df = pd.read_json('pieces.json')"
   ]
  },
  {
   "cell_type": "code",
   "execution_count": 21,
   "metadata": {},
   "outputs": [],
   "source": [
    "global a, b, c\n",
    "a = 1\n",
    "b = 2\n",
    "c = 3"
   ]
  },
  {
   "cell_type": "code",
   "execution_count": 22,
   "metadata": {},
   "outputs": [
    {
     "data": {
      "text/plain": [
       "1"
      ]
     },
     "execution_count": 22,
     "metadata": {},
     "output_type": "execute_result"
    }
   ],
   "source": [
    "a"
   ]
  },
  {
   "cell_type": "code",
   "execution_count": 16,
   "metadata": {},
   "outputs": [
    {
     "data": {
      "text/plain": [
       "{'pawn': 'BP',\n",
       " 'knight': 'BN',\n",
       " 'bishop': 'BB',\n",
       " 'rook': 'BR',\n",
       " 'queen': 'BQ',\n",
       " 'king': 'BK'}"
      ]
     },
     "execution_count": 16,
     "metadata": {},
     "output_type": "execute_result"
    }
   ],
   "source": [
    "df['player'][0]"
   ]
  },
  {
   "cell_type": "code",
   "execution_count": 23,
   "metadata": {},
   "outputs": [],
   "source": [
    "PIECES = {\n",
    "    'White':\n",
    "    {\n",
    "        'PAWN' : 'WP',\n",
    "        'ROOK' : 'WR',\n",
    "        'KNIGHT' : 'WN',\n",
    "        'BISHOP' : 'WB',\n",
    "        'QUEEN' : 'WQ',\n",
    "        'KING' : 'WK'\n",
    "    },\n",
    "    'Black':\n",
    "    {\n",
    "        'PAWN' : 'BP',\n",
    "        'ROOK' : 'BR',\n",
    "        'KNIGHT' : 'BN',\n",
    "        'BISHOP' : 'BB',\n",
    "        'QUEEN' : 'BQ',\n",
    "        'KING' : 'BK'\n",
    "    },\n",
    "    'EMPTY': '00'\n",
    "    }"
   ]
  },
  {
   "cell_type": "code",
   "execution_count": 24,
   "metadata": {},
   "outputs": [
    {
     "data": {
      "text/plain": [
       "['WP', 'WR', 'WN', 'WB', 'WQ', 'WK']"
      ]
     },
     "execution_count": 24,
     "metadata": {},
     "output_type": "execute_result"
    }
   ],
   "source": [
    "list(PIECES['White'].values())"
   ]
  },
  {
   "cell_type": "code",
   "execution_count": null,
   "metadata": {},
   "outputs": [],
   "source": []
  }
 ],
 "metadata": {
  "kernelspec": {
   "display_name": "Python 3",
   "language": "python",
   "name": "python3"
  },
  "language_info": {
   "codemirror_mode": {
    "name": "ipython",
    "version": 3
   },
   "file_extension": ".py",
   "mimetype": "text/x-python",
   "name": "python",
   "nbconvert_exporter": "python",
   "pygments_lexer": "ipython3",
   "version": "3.7.4"
  }
 },
 "nbformat": 4,
 "nbformat_minor": 4
}
